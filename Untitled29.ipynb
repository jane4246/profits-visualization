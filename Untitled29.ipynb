{
  "nbformat": 4,
  "nbformat_minor": 0,
  "metadata": {
    "colab": {
      "provenance": [],
      "authorship_tag": "ABX9TyN669euV6rBwEfZm7uS018m",
      "include_colab_link": true
    },
    "kernelspec": {
      "name": "python3",
      "display_name": "Python 3"
    },
    "language_info": {
      "name": "python"
    }
  },
  "cells": [
    {
      "cell_type": "markdown",
      "metadata": {
        "id": "view-in-github",
        "colab_type": "text"
      },
      "source": [
        "<a href=\"https://colab.research.google.com/github/jane4246/profits-visualization/blob/main/Untitled29.ipynb\" target=\"_parent\"><img src=\"https://colab.research.google.com/assets/colab-badge.svg\" alt=\"Open In Colab\"/></a>"
      ]
    },
    {
      "cell_type": "code",
      "execution_count": 37,
      "metadata": {
        "colab": {
          "base_uri": "https://localhost:8080/",
          "height": 715
        },
        "id": "kbOIJzrZEuOz",
        "outputId": "51b512c2-d7b2-416f-8b9e-b6743458f1c1"
      },
      "outputs": [
        {
          "output_type": "stream",
          "name": "stdout",
          "text": [
            "   Serial Number  Country  Total Cases Total Deaths Total Recovered  \\\n",
            "0              1      USA  104,196,861    1,132,935     101,322,779   \n",
            "1              2    India   44,682,784      530,740      44,150,289   \n",
            "2              3   France   39,524,311      164,233      39,264,546   \n",
            "3              4  Germany   37,779,833      165,711      37,398,100   \n",
            "4              5   Brazil   36,824,580      697,074      35,919,372   \n",
            "\n",
            "  Active Cases     Total Test     Population  \n",
            "0    1,741,147  1,159,832,679    334,805,269  \n",
            "1        1,755    915,265,788  1,406,631,776  \n",
            "2       95,532    271,490,188     65,584,518  \n",
            "3      216,022    122,332,384     83,883,596  \n",
            "4      208,134     63,776,166    215,353,593  \n",
            "          Serial Number  Total Cases\n",
            "Country                             \n",
            "Brazil              5.0   36824580.0\n",
            "France              3.0   39524311.0\n",
            "Germany             4.0   37779833.0\n",
            "India               2.0   44682784.0\n",
            "Japan               6.0   32588442.0\n",
            "S. Korea            7.0   30197066.0\n",
            "USA                 1.0  104196861.0\n"
          ]
        },
        {
          "output_type": "display_data",
          "data": {
            "text/plain": [
              "<Figure size 432x288 with 1 Axes>"
            ],
            "image/png": "[encoded data removed]"
          },
          "metadata": {
            "needs_background": "light"
          }
        }
      ],
      "source": [
        "import pandas as pd\n",
        "import matplotlib.pyplot as plt\n",
        "\n",
        "# Load the data into a DataFrame\n",
        "df = pd.read_csv(\"/content/covid_worldwide.csv\")\n",
        "\n",
        "# Print the first five rows of the DataFrame\n",
        "print(df.head())\n",
        "\n",
        "# Remove commas from the \"Total Cases\" column\n",
        "df[\"Total Cases\"] = df[\"Total Cases\"].str.replace(\",\", \"\").astype(int)\n",
        "\n",
        "# Filter the data to include only rows with cases greater than 100 million\n",
        "df_filtered = df.loc[df[\"Total Cases\"] > 30000000]\n",
        "\n",
        "# Group the filtered data by continent and calculate the mean values for each column\n",
        "df_grouped = df_filtered.groupby(\"Country\").mean()\n",
        "print(df_grouped)\n",
        "\n",
        "\n",
        "# Create a bar chart of the mean Total Cases by Continent\n",
        "df_grouped.plot(kind=\"bar\", y=\"Total Cases\")\n",
        "plt.show()\n",
        "\n"
      ]
    },
    {
      "cell_type": "code",
      "source": [
        "import matplotlib.pyplot as plt\n",
        "\n",
        "# Create the bar chart\n",
        "plt.bar(df_filtered[\"Country\"], df_filtered[\"Total Cases\"])\n",
        "\n",
        "# Add a title and labels\n",
        "plt.title(\"Total Covid Cases by Country\")\n",
        "plt.xlabel(\"Country\")\n",
        "plt.ylabel(\"Total Cases\")\n",
        "\n",
        "# Save the chart as a PNG file\n",
        "plt.savefig(\"total_cases_by_country.png\", dpi=300)\n",
        "\n",
        "# Download the PNG image to your device\n",
        "files.download(\"total_cases_by_country.png\")\n"
      ],
      "metadata": {
        "colab": {
          "base_uri": "https://localhost:8080/",
          "height": 295
        },
        "id": "XUwK1Bm2OYnK",
        "outputId": "4499250b-487e-4a3a-8ff1-c5d2691f93cc"
      },
      "execution_count": 48,
      "outputs": [
        {
          "output_type": "display_data",
          "data": {
            "text/plain": [
              "<IPython.core.display.Javascript object>"
            ],
            "application/javascript": [
              "\n",
              "    async function download(id, filename, size) {\n",
              "      if (!google.colab.kernel.accessAllowed) {\n",
              "        return;\n",
              "      }\n",
              "      const div = document.createElement('div');\n",
              "      const label = document.createElement('label');\n",
              "      label.textContent = `Downloading \"${filename}\": `;\n",
              "      div.appendChild(label);\n",
              "      const progress = document.createElement('progress');\n",
              "      progress.max = size;\n",
              "      div.appendChild(progress);\n",
              "      document.body.appendChild(div);\n",
              "\n",
              "      const buffers = [];\n",
              "      let downloaded = 0;\n",
              "\n",
              "      const channel = await google.colab.kernel.comms.open(id);\n",
              "      // Send a message to notify the kernel that we're ready.\n",
              "      channel.send({})\n",
              "\n",
              "      for await (const message of channel.messages) {\n",
              "        // Send a message to notify the kernel that we're ready.\n",
              "        channel.send({})\n",
              "        if (message.buffers) {\n",
              "          for (const buffer of message.buffers) {\n",
              "            buffers.push(buffer);\n",
              "            downloaded += buffer.byteLength;\n",
              "            progress.value = downloaded;\n",
              "          }\n",
              "        }\n",
              "      }\n",
              "      const blob = new Blob(buffers, {type: 'application/binary'});\n",
              "      const a = document.createElement('a');\n",
              "      a.href = window.URL.createObjectURL(blob);\n",
              "      a.download = filename;\n",
              "      div.appendChild(a);\n",
              "      a.click();\n",
              "      div.remove();\n",
              "    }\n",
              "  "
            ]
          },
          "metadata": {}
        },
        {
          "output_type": "display_data",
          "data": {
            "text/plain": [
              "<IPython.core.display.Javascript object>"
            ],
            "application/javascript": [
              "download(\"download_fbcfa34a-4867-4a6f-b3ec-85de5d6edab5\", \"total_cases_by_country.png\", 56396)"
            ]
          },
          "metadata": {}
        },
        {
          "output_type": "display_data",
          "data": {
            "text/plain": [
              "<Figure size 432x288 with 1 Axes>"
            ],
            "image/png": "[encoded data removed]"
          },
          "metadata": {
            "needs_background": "light"
          }
        }
      ]
    },
    {
      "cell_type": "code",
      "source": [
        "import matplotlib.pyplot as plt\n",
        "\n",
        "# Define the data and labels\n",
        "data = [10, 20, 30, 40, 50]\n",
        "labels = ['USA', 'China', 'India', 'Russia', 'Brazil']\n",
        "colors = ['red', 'green', 'blue', 'orange', 'purple', 'yellow', 'green']\n",
        "\n",
        "# Create the bar plot with custom colors\n",
        "plt.bar(labels, data, color=colors)\n",
        "\n",
        "# Set the title and axis labels\n",
        "plt.title('Total Cases by Country')\n",
        "plt.xlabel('Country')\n",
        "plt.ylabel('Total Cases')\n",
        "\n",
        "# Show the plot\n",
        "plt.show()\n"
      ],
      "metadata": {
        "colab": {
          "base_uri": "https://localhost:8080/",
          "height": 295
        },
        "id": "qOFmJfjhUkT1",
        "outputId": "b5a8a61b-bd4e-4da3-abfb-f85bcf3aa330"
      },
      "execution_count": 36,
      "outputs": [
        {
          "output_type": "display_data",
          "data": {
            "text/plain": [
              "<Figure size 432x288 with 1 Axes>"
            ],
            "image/png": "[encoded data removed]"
          },
          "metadata": {
            "needs_background": "light"
          }
        }
      ]
    },
    {
      "cell_type": "code",
      "source": [
        "import pandas as pd\n",
        "import matplotlib.pyplot as plt\n",
        "\n",
        "# Load the data into a DataFrame\n",
        "df = pd.read_csv(\"/content/covid_worldwide.csv\")\n",
        "\n",
        "# Remove commas from the \"Total Cases\" column\n",
        "df[\"Total Cases\"] = df[\"Total Cases\"].str.replace(\",\", \"\").astype(int)\n",
        "\n",
        "# Filter the data to include only rows with cases greater than 40 million\n",
        "df_filtered = df.loc[df[\"Total Cases\"] > 30000000]\n",
        "\n",
        "# Group the filtered data by country and calculate the mean values for each column\n",
        "df_grouped = df_filtered.groupby(\"Country\").mean()\n",
        "\n",
        "# Specify the colors for the bars\n",
        "colors = [\"#F94144\", \"#F8961E\", \"#F9C74F\", \"#90BE6D\", \"#43AA8B\", \"#A020F0\", \"#4B0082\"]\n",
        "\n",
        "# Create a bar chart of the mean Total Cases by country\n",
        "ax = df_grouped.plot(kind=\"bar\", y=\"Total Cases\", color=colors)\n",
        "\n",
        "# Set the x-label and y-label of the chart\n",
        "ax.set_xlabel(\"Country\")\n",
        "ax.set_ylabel(\"Total Cases\")\n",
        "\n",
        "# Add a title and labels\n",
        "from termcolor import colored\n",
        "\n",
        "plt.title(colored(\"Total Covid Cases by Country\", \"white\"))\n",
        "plt.xlabel(\"Country\")\n",
        "plt.ylabel(\"Total Cases\")\n",
        "\n",
        "# Save the chart as a PNG file\n",
        "plt.savefig(\"total_cases_by_country.png\", dpi=300)\n",
        "\n",
        "# Download the PNG image to your device\n",
        "files.download(\"total_cases_by_country.png\")\n",
        "\n",
        "# Display the chart\n",
        "plt.show()\n",
        "\n",
        "\n"
      ],
      "metadata": {
        "colab": {
          "base_uri": "https://localhost:8080/",
          "height": 331
        },
        "id": "wVN_gwpIWPe5",
        "outputId": "12350b73-d285-4a4a-fcce-65671739d969"
      },
      "execution_count": 57,
      "outputs": [
        {
          "output_type": "display_data",
          "data": {
            "text/plain": [
              "<IPython.core.display.Javascript object>"
            ],
            "application/javascript": [
              "\n",
              "    async function download(id, filename, size) {\n",
              "      if (!google.colab.kernel.accessAllowed) {\n",
              "        return;\n",
              "      }\n",
              "      const div = document.createElement('div');\n",
              "      const label = document.createElement('label');\n",
              "      label.textContent = `Downloading \"${filename}\": `;\n",
              "      div.appendChild(label);\n",
              "      const progress = document.createElement('progress');\n",
              "      progress.max = size;\n",
              "      div.appendChild(progress);\n",
              "      document.body.appendChild(div);\n",
              "\n",
              "      const buffers = [];\n",
              "      let downloaded = 0;\n",
              "\n",
              "      const channel = await google.colab.kernel.comms.open(id);\n",
              "      // Send a message to notify the kernel that we're ready.\n",
              "      channel.send({})\n",
              "\n",
              "      for await (const message of channel.messages) {\n",
              "        // Send a message to notify the kernel that we're ready.\n",
              "        channel.send({})\n",
              "        if (message.buffers) {\n",
              "          for (const buffer of message.buffers) {\n",
              "            buffers.push(buffer);\n",
              "            downloaded += buffer.byteLength;\n",
              "            progress.value = downloaded;\n",
              "          }\n",
              "        }\n",
              "      }\n",
              "      const blob = new Blob(buffers, {type: 'application/binary'});\n",
              "      const a = document.createElement('a');\n",
              "      a.href = window.URL.createObjectURL(blob);\n",
              "      a.download = filename;\n",
              "      div.appendChild(a);\n",
              "      a.click();\n",
              "      div.remove();\n",
              "    }\n",
              "  "
            ]
          },
          "metadata": {}
        },
        {
          "output_type": "display_data",
          "data": {
            "text/plain": [
              "<IPython.core.display.Javascript object>"
            ],
            "application/javascript": [
              "download(\"download_0d6186f8-3507-479c-9939-ccde93c46434\", \"total_cases_by_country.png\", 62330)"
            ]
          },
          "metadata": {}
        },
        {
          "output_type": "display_data",
          "data": {
            "text/plain": [
              "<Figure size 432x288 with 1 Axes>"
            ],
            "image/png": "[encoded data removed]"
          },
          "metadata": {
            "needs_background": "light"
          }
        }
      ]
    },
    {
      "cell_type": "code",
      "source": [
        "import matplotlib.pyplot as plt\n",
        "\n",
        "# Create the bar chart\n",
        "plt.bar(df_filtered[\"Country\"], df_filtered[\"Total Cases\"])\n",
        "\n",
        "# Add a title and labels\n",
        "plt.title(\"Total Covid Cases by Country\")\n",
        "plt.xlabel(\"Country\")\n",
        "plt.ylabel(\"Total Cases\")\n",
        "\n",
        "# Save the chart as a PNG file\n",
        "plt.savefig(\"total_cases_by_country.png\", dpi=300)\n",
        "\n",
        "# Download the PNG image to your device\n",
        "files.download(\"total_cases_by_country.png\")"
      ],
      "metadata": {
        "colab": {
          "base_uri": "https://localhost:8080/",
          "height": 295
        },
        "id": "KEscuprThx7W",
        "outputId": "6f169b98-57cd-4253-d8c7-6c0a7f8ebc3c"
      },
      "execution_count": 52,
      "outputs": [
        {
          "output_type": "display_data",
          "data": {
            "text/plain": [
              "<IPython.core.display.Javascript object>"
            ],
            "application/javascript": [
              "\n",
              "    async function download(id, filename, size) {\n",
              "      if (!google.colab.kernel.accessAllowed) {\n",
              "        return;\n",
              "      }\n",
              "      const div = document.createElement('div');\n",
              "      const label = document.createElement('label');\n",
              "      label.textContent = `Downloading \"${filename}\": `;\n",
              "      div.appendChild(label);\n",
              "      const progress = document.createElement('progress');\n",
              "      progress.max = size;\n",
              "      div.appendChild(progress);\n",
              "      document.body.appendChild(div);\n",
              "\n",
              "      const buffers = [];\n",
              "      let downloaded = 0;\n",
              "\n",
              "      const channel = await google.colab.kernel.comms.open(id);\n",
              "      // Send a message to notify the kernel that we're ready.\n",
              "      channel.send({})\n",
              "\n",
              "      for await (const message of channel.messages) {\n",
              "        // Send a message to notify the kernel that we're ready.\n",
              "        channel.send({})\n",
              "        if (message.buffers) {\n",
              "          for (const buffer of message.buffers) {\n",
              "            buffers.push(buffer);\n",
              "            downloaded += buffer.byteLength;\n",
              "            progress.value = downloaded;\n",
              "          }\n",
              "        }\n",
              "      }\n",
              "      const blob = new Blob(buffers, {type: 'application/binary'});\n",
              "      const a = document.createElement('a');\n",
              "      a.href = window.URL.createObjectURL(blob);\n",
              "      a.download = filename;\n",
              "      div.appendChild(a);\n",
              "      a.click();\n",
              "      div.remove();\n",
              "    }\n",
              "  "
            ]
          },
          "metadata": {}
        },
        {
          "output_type": "display_data",
          "data": {
            "text/plain": [
              "<IPython.core.display.Javascript object>"
            ],
            "application/javascript": [
              "download(\"download_df07b6b7-60f9-43b1-bf3a-be1e301b4a23\", \"total_cases_by_country.png\", 56396)"
            ]
          },
          "metadata": {}
        },
        {
          "output_type": "display_data",
          "data": {
            "text/plain": [
              "<Figure size 432x288 with 1 Axes>"
            ],
            "image/png": "[encoded data removed]"
          },
          "metadata": {
            "needs_background": "light"
          }
        }
      ]
    },
    {
      "cell_type": "code",
      "source": [
        "import pandas as pd\n",
        "import matplotlib.pyplot as plt\n",
        "\n",
        "# Load the data into a DataFrame\n",
        "df = pd.read_csv(\"/content/covid_worldwide.csv\")\n",
        "\n",
        "# Print the first five rows of the DataFrame\n",
        "print(df.head())\n",
        "\n",
        "# Remove commas from the \"Total Cases\" column\n",
        "df[\"Total Cases\"] = df[\"Total Cases\"].str.replace(\",\", \"\").astype(int)\n",
        "\n",
        "# Filter the data to include only rows with cases greater than 100 million\n",
        "df_filtered = df.loc[df[\"Total Cases\"] > 30000000]\n",
        "\n",
        "# Group the filtered data by country and calculate the mean values for each column\n",
        "df_grouped = df_filtered.groupby(\"Country\").mean()\n",
        "print(df_grouped)\n",
        "\n",
        "# Set the color for each country\n",
        "colors = {\"USA\": \"red\", \"India\": \"blue\", \"Brazil\": \"green\", \"Russia\": \"orange\", \"France\": \"purple\"}\n",
        "\n",
        "# Create a line graph of the mean Total Cases by Country\n",
        "ax = df_grouped.plot(kind=\"line\", y=\"Total Cases\", figsize=(10, 6), color=[colors.get(c, \"blue\") for c in df_grouped.index])\n",
        "ax.set_xlabel(\"Country\")\n",
        "ax.set_ylabel(\"Mean Total Cases (in millions)\")\n",
        "ax.set_title(\"Mean Total Cases by Country\")\n",
        "plt.show()\n"
      ],
      "metadata": {
        "colab": {
          "base_uri": "https://localhost:8080/",
          "height": 793
        },
        "id": "9c4TeDJvcjJY",
        "outputId": "33e36cfc-66c1-4dd0-d02d-a2f98fb961d5"
      },
      "execution_count": 46,
      "outputs": [
        {
          "output_type": "stream",
          "name": "stdout",
          "text": [
            "   Serial Number  Country  Total Cases Total Deaths Total Recovered  \\\n",
            "0              1      USA  104,196,861    1,132,935     101,322,779   \n",
            "1              2    India   44,682,784      530,740      44,150,289   \n",
            "2              3   France   39,524,311      164,233      39,264,546   \n",
            "3              4  Germany   37,779,833      165,711      37,398,100   \n",
            "4              5   Brazil   36,824,580      697,074      35,919,372   \n",
            "\n",
            "  Active Cases     Total Test     Population  \n",
            "0    1,741,147  1,159,832,679    334,805,269  \n",
            "1        1,755    915,265,788  1,406,631,776  \n",
            "2       95,532    271,490,188     65,584,518  \n",
            "3      216,022    122,332,384     83,883,596  \n",
            "4      208,134     63,776,166    215,353,593  \n",
            "          Serial Number  Total Cases\n",
            "Country                             \n",
            "Brazil              5.0   36824580.0\n",
            "France              3.0   39524311.0\n",
            "Germany             4.0   37779833.0\n",
            "India               2.0   44682784.0\n",
            "Japan               6.0   32588442.0\n",
            "S. Korea            7.0   30197066.0\n",
            "USA                 1.0  104196861.0\n"
          ]
        },
        {
          "output_type": "display_data",
          "data": {
            "text/plain": [
              "<Figure size 720x432 with 1 Axes>"
            ],
            "image/png": "[encoded data removed]"
          },
          "metadata": {
            "needs_background": "light"
          }
        }
      ]
    }
  ]
}